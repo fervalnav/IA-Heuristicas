{
 "cells": [
  {
   "cell_type": "markdown",
   "metadata": {},
   "source": [
    "# Práctica de planificación automática"
   ]
  },
  {
   "cell_type": "markdown",
   "metadata": {},
   "source": [
    "### Inteligencia Artificial\n",
    "### Grado en Ingeniería Informática - Ingeniería del Software\n",
    "### Universidad de Sevilla"
   ]
  },
  {
   "cell_type": "markdown",
   "metadata": {},
   "source": [
    "Para implementar un problema de planificación se puede hacer uso de las clases\n",
    "de objetos proporcionadas por el módulo `problema_planificación_pddl`\n",
    "(**Nota**: es importante tener en cuenta que este módulo asume que todos los\n",
    "símbolos de objetos son cadenas)."
   ]
  },
  {
   "cell_type": "code",
   "execution_count": 1,
   "metadata": {
    "collapsed": false,
    "jupyter": {
     "outputs_hidden": false
    }
   },
   "outputs": [],
   "source": [
    "import problema_planificación_pddl as probpl"
   ]
  },
  {
   "cell_type": "markdown",
   "metadata": {},
   "source": [
    "## Problema de la rueda pinchada"
   ]
  },
  {
   "cell_type": "markdown",
   "metadata": {},
   "source": [
    "El problema de la rueda pinchada consiste en determinar los pasos a realizar\n",
    "para cambiar una rueda pinchada por una rueda de repuesto que se encuentra en\n",
    "el maletero, guardando finalmente la rueda pinchada en el maletero, para poder\n",
    "continuar el viaje."
   ]
  },
  {
   "cell_type": "markdown",
   "metadata": {},
   "source": [
    "Cada predicado que se use para representar el problema debe crearse como una\n",
    "instancia de la clase `Predicado`, indicando por separado el dominio de cada\n",
    "variable (usando el tipo de dato `set` de Python para ello)."
   ]
  },
  {
   "cell_type": "markdown",
   "metadata": {},
   "source": [
    "Para el problema de la rueda pinchada usaremos un predicado `EN(r, l)`, donde\n",
    "`r` será una rueda (pinchada o de repuesto) y `l` una localización (eje,\n",
    "maletero, suelo)."
   ]
  },
  {
   "cell_type": "code",
   "execution_count": 2,
   "metadata": {
    "collapsed": false,
    "jupyter": {
     "outputs_hidden": false
    }
   },
   "outputs": [],
   "source": [
    "ruedas = {'rueda-pinchada', 'rueda-repuesto'}\n",
    "localizaciones = {'eje', 'maletero', 'suelo'}\n",
    "en = probpl.Predicado(ruedas, localizaciones)"
   ]
  },
  {
   "cell_type": "markdown",
   "metadata": {},
   "source": [
    "Cada estado del problema es una instancia de la clase `Estado`, creada a partir\n",
    "de instanciaciones de predicados previamente declarados."
   ]
  },
  {
   "cell_type": "code",
   "execution_count": 3,
   "metadata": {
    "collapsed": false,
    "jupyter": {
     "outputs_hidden": false
    }
   },
   "outputs": [
    {
     "name": "stdout",
     "output_type": "stream",
     "text": [
      "en(rueda-pinchada, eje)\n",
      "en(rueda-repuesto, maletero)\n"
     ]
    }
   ],
   "source": [
    "estado_inicial_rueda = probpl.Estado(en('rueda-pinchada', 'eje'),\n",
    "                                     en('rueda-repuesto', 'maletero'))\n",
    "print(estado_inicial_rueda)"
   ]
  },
  {
   "cell_type": "markdown",
   "metadata": {},
   "source": [
    "Las acciones se implementan como instancias de la clase `AcciónPlanificación`.\n",
    "Los argumentos que se pueden proporcionar son los siguientes:\n",
    "* `nombre`: una cadena que representa la acción. Este argumento es obligatorio.\n",
    "* `precondicionesP`: una lista de instanciaciones de predicados que forman las\n",
    "  precondiciones positivas. Este argumento es opcional.\n",
    "* `precondicionesN`: una lista de instanciaciones de predicados que forman las\n",
    "  precondiciones negativas. Este argumento es opcional.\n",
    "* `efectosP`: una lista de instanciaciones de predicados que forman los efectos\n",
    "  positivos. Este argumento es opcional.\n",
    "* `efectosN`: una lista de instanciaciones de predicados que forman los efectos\n",
    "  negativos. Este argumento es opcional.\n",
    "* `coste`: un número entero positivo (la implementación asume que el coste de\n",
    "  aplicar la acción es siempre el mismo, independientemente del estado). Este\n",
    "  argumento es opcional, en cuyo caso se toma coste 1.\n",
    "\n",
    "En el caso de una sola precondición o efecto no es necesario proporcionarlos en\n",
    "una lista."
   ]
  },
  {
   "cell_type": "code",
   "execution_count": 4,
   "metadata": {
    "collapsed": false,
    "jupyter": {
     "outputs_hidden": false
    }
   },
   "outputs": [],
   "source": [
    "# Sacar la rueda de repuesto del maletero\n",
    "sacar = probpl.AcciónPlanificación(\n",
    "    nombre='sacar_repuesto',\n",
    "    precondicionesP=en('rueda-repuesto', 'maletero'),\n",
    "    efectosP=en('rueda-repuesto', 'suelo'),\n",
    "    efectosN=en('rueda-repuesto', 'maletero')\n",
    ")\n",
    "\n",
    "# Quitar la rueda pinchada del eje\n",
    "quitar = probpl.AcciónPlanificación(\n",
    "    nombre='quitar_pinchada',\n",
    "    precondicionesP=en('rueda-pinchada', 'eje'),\n",
    "    efectosP=en('rueda-pinchada', 'suelo'),\n",
    "    efectosN=en('rueda-pinchada', 'eje')\n",
    ")\n",
    "\n",
    "# Colocar la rueda de repuesto en el eje\n",
    "poner = probpl.AcciónPlanificación(\n",
    "    nombre='poner_repuesto',\n",
    "    precondicionesP=en('rueda-repuesto', 'suelo'),\n",
    "    precondicionesN=en('rueda-pinchada', 'eje'),\n",
    "    efectosP=en('rueda-repuesto', 'eje'),\n",
    "    efectosN=en('rueda-repuesto', 'suelo')\n",
    ")\n",
    "\n",
    "# Guardar la rueda pinchada en el maletero\n",
    "guardar = probpl.AcciónPlanificación(\n",
    "    nombre='guardar_pinchada',\n",
    "    precondicionesP=en('rueda-pinchada', 'suelo'),\n",
    "    precondicionesN=en('rueda-repuesto', 'maletero'),\n",
    "    efectosP=en('rueda-pinchada', 'maletero'),\n",
    "    efectosN=en('rueda-pinchada', 'suelo')\n",
    ")"
   ]
  },
  {
   "cell_type": "markdown",
   "metadata": {},
   "source": [
    "Una vez creadas las acciones, la función `print` nos muestra su estructura."
   ]
  },
  {
   "cell_type": "code",
   "execution_count": 5,
   "metadata": {
    "collapsed": false,
    "jupyter": {
     "outputs_hidden": false
    }
   },
   "outputs": [
    {
     "name": "stdout",
     "output_type": "stream",
     "text": [
      "\n",
      "Acción: quitar_pinchada\n",
      "  Precondiciones:\n",
      "    en(rueda-pinchada, eje)\n",
      "  Efectos:\n",
      "    -en(rueda-pinchada, eje)\n",
      "    en(rueda-pinchada, suelo)\n",
      "  Coste: 1\n"
     ]
    }
   ],
   "source": [
    "print(quitar)"
   ]
  },
  {
   "cell_type": "code",
   "execution_count": 6,
   "metadata": {
    "collapsed": false,
    "jupyter": {
     "outputs_hidden": false
    }
   },
   "outputs": [
    {
     "name": "stdout",
     "output_type": "stream",
     "text": [
      "\n",
      "Acción: guardar_pinchada\n",
      "  Precondiciones:\n",
      "    -en(rueda-repuesto, maletero)\n",
      "    en(rueda-pinchada, suelo)\n",
      "  Efectos:\n",
      "    -en(rueda-pinchada, suelo)\n",
      "    en(rueda-pinchada, maletero)\n",
      "  Coste: 1\n"
     ]
    }
   ],
   "source": [
    "print(guardar)"
   ]
  },
  {
   "cell_type": "markdown",
   "metadata": {},
   "source": [
    "Finalmente, un problema de planificación será una instancia de la clase\n",
    "`ProblemaPlanificación` construida a partir de los siguientes argumentos:\n",
    "* `operadores`: la lista de acciones del problema.\n",
    "* `estado_inicial`: el estado inicial del problema.\n",
    "* `objetivosP`: una lista de instancias de predicados que forman los objetivos\n",
    "  positivos.\n",
    "* `objetivosN`: una lista de instancias de predicados que forman los objetivos\n",
    "  negativos.\n",
    "\n",
    "En el caso de un solo operador, un solo objetivo positivo o un solo objetivo\n",
    "negativo, no es necesario proporcionarlos en una lista."
   ]
  },
  {
   "cell_type": "code",
   "execution_count": 7,
   "metadata": {
    "collapsed": false,
    "jupyter": {
     "outputs_hidden": false
    }
   },
   "outputs": [],
   "source": [
    "problema_rueda_pinchada = probpl.ProblemaPlanificación(\n",
    "    operadores=[quitar, guardar, sacar, poner],\n",
    "    estado_inicial=estado_inicial_rueda,\n",
    "    objetivosP=[en('rueda-pinchada', 'maletero'),\n",
    "                en('rueda-repuesto', 'eje')]\n",
    ")"
   ]
  },
  {
   "cell_type": "markdown",
   "metadata": {},
   "source": [
    "Una vez implementado el problema de planificación, para buscar un plan solución\n",
    "basta aplicar algún algoritmo de búsqueda en espacio de estados."
   ]
  },
  {
   "cell_type": "code",
   "execution_count": 8,
   "metadata": {
    "collapsed": false,
    "jupyter": {
     "outputs_hidden": false
    }
   },
   "outputs": [],
   "source": [
    "import búsqueda_espacio_estados as búsqee"
   ]
  },
  {
   "cell_type": "code",
   "execution_count": 9,
   "metadata": {
    "collapsed": false,
    "jupyter": {
     "outputs_hidden": false
    }
   },
   "outputs": [
    {
     "data": {
      "text/plain": [
       "['sacar_repuesto', 'quitar_pinchada', 'poner_repuesto', 'guardar_pinchada']"
      ]
     },
     "execution_count": 9,
     "metadata": {},
     "output_type": "execute_result"
    }
   ],
   "source": [
    "búsqueda_profundidad = búsqee.BúsquedaEnProfundidad()\n",
    "búsqueda_profundidad.buscar(problema_rueda_pinchada)"
   ]
  },
  {
   "cell_type": "code",
   "execution_count": 10,
   "metadata": {
    "collapsed": false,
    "jupyter": {
     "outputs_hidden": false
    }
   },
   "outputs": [
    {
     "data": {
      "text/plain": [
       "['quitar_pinchada', 'sacar_repuesto', 'guardar_pinchada', 'poner_repuesto']"
      ]
     },
     "execution_count": 10,
     "metadata": {},
     "output_type": "execute_result"
    }
   ],
   "source": [
    "búsqueda_anchura = búsqee.BúsquedaEnAnchura()\n",
    "búsqueda_anchura.buscar(problema_rueda_pinchada)"
   ]
  },
  {
   "cell_type": "markdown",
   "metadata": {},
   "source": [
    "## Problema del mundo de los bloques"
   ]
  },
  {
   "cell_type": "markdown",
   "metadata": {},
   "source": [
    "En el problema del mundo de los bloques se dispone de un conjunto de bloques\n",
    "cúbicos dispuestos sobre una mesa. Los bloques se pueden apilar, pero cada\n",
    "bloque solo se puede colocar sobre un único bloque. Un brazo robótico puede\n",
    "coger un bloque y moverlo a otra posición, ya sea sobre la mesa o sobre otro\n",
    "bloque. El brazo robótico solo puede coger un bloque cada vez. El objetivo es\n",
    "construir una determinada pila de bloques."
   ]
  },
  {
   "cell_type": "markdown",
   "metadata": {},
   "source": [
    "En primer lugar declaramos los predicados que vamos a utilizar para representar\n",
    "el problema, indicando el dominio de cada argumento. Si un predicado no tiene\n",
    "argumentos, entonces se debe proporcionar el conjunto vacío como dominio."
   ]
  },
  {
   "cell_type": "code",
   "execution_count": 11,
   "metadata": {
    "collapsed": false,
    "jupyter": {
     "outputs_hidden": false
    }
   },
   "outputs": [],
   "source": [
    "bloques = {'A', 'B', 'C'}\n",
    "despejado = probpl.Predicado(bloques)\n",
    "brazolibre = probpl.Predicado({})\n",
    "sobrelamesa = probpl.Predicado(bloques)\n",
    "sobre = probpl.Predicado(bloques, bloques)\n",
    "agarrado = probpl.Predicado(bloques)"
   ]
  },
  {
   "cell_type": "markdown",
   "metadata": {},
   "source": [
    "Definimos un estado inicial para el problema de los bloques en el que: el bloque\n",
    "A está situado sobre la mesa y no tiene nada encima; el bloque B está situado\n",
    "sobre la mesa y tiene encima el bloque C; el bloque C no tiene nada encima; el\n",
    "brazo robótico está libre."
   ]
  },
  {
   "cell_type": "code",
   "execution_count": 12,
   "metadata": {
    "collapsed": false,
    "jupyter": {
     "outputs_hidden": false
    }
   },
   "outputs": [],
   "source": [
    "estado_inicial_bloques = probpl.Estado(\n",
    "    sobrelamesa('A'), despejado('A'),\n",
    "    sobrelamesa('B'),\n",
    "    sobre('C','B'), despejado('C'),\n",
    "    brazolibre()\n",
    ")"
   ]
  },
  {
   "cell_type": "markdown",
   "metadata": {},
   "source": [
    "Se pueden establecer costes distintos para las acciones obtenidas a partir de\n",
    "un mismo esquema. Para ello basta crear una instancia de la clase\n",
    "`CosteEsquema` a partir de una función que establezca ese coste en función de\n",
    "ciertos parámetros. Por ejemplo, supongamos que el coste de mover cada uno de\n",
    "los tres bloques es distinto, ya que tienen pesos distintos."
   ]
  },
  {
   "cell_type": "code",
   "execution_count": 13,
   "metadata": {
    "collapsed": false,
    "jupyter": {
     "outputs_hidden": false
    }
   },
   "outputs": [],
   "source": [
    "coste_bloque = probpl.CosteEsquema(lambda b: {'A': 1, 'B': 2, 'C': 3}[b])"
   ]
  },
  {
   "cell_type": "markdown",
   "metadata": {},
   "source": [
    "Los esquemas de acciones se implementan como instancias de la clase\n",
    "`EsquemaPlanificación`. Los posibles argumentos que se pueden proporcionar son\n",
    "los siguientes:\n",
    "* `nombre`: una cadena de la forma $acc(z_{1}, \\dotsc, z_{k})$, donde si $z_{i}$\n",
    "  representa una variable, entonces debe escribirse entre llaves. Este\n",
    "  argumento es obligatorio.\n",
    "* `precondicionesP`: una lista de instancias de predicados que forman las\n",
    "  precondiciones positivas. Este argumento es opcional.\n",
    "* `precondicionesN`: una lista de instancias de predicados que forman las\n",
    "  precondiciones negativas. Este argumento es opcional.\n",
    "* `efectosP`: una lista de instancias de predicados que forman los efectos\n",
    "  positivos. Este argumento es opcional.\n",
    "* `efectosN`: una lista de instancias de predicados que forman los efectos\n",
    "  negativos. Este argumento es opcional.\n",
    "* `coste`: una instancia de la clase `costeEsquema` que establece el coste de\n",
    "  una acción a partir de los valores de las variables $z_{i}$. Este\n",
    "  argumento es opcional, en cuyo caso se toma coste 1.\n",
    "* `dominio`: un conjunto de tuplas del mismo tamaño que el número de variables.\n",
    "  Indica el conjunto de situaciones para las que tiene sentido instanciar el\n",
    "  esquema de acción.\n",
    "* `variables`: un diccionario que asocia a cada nombre de variable $z_{i}$ el\n",
    "  conjunto de valores que puede tomar. \n",
    "\n",
    "Al menos uno de los argumentos `dominio` o `variables` debe aparecer. En caso\n",
    "de incluir los dos, solo se tiene en cuenta el argumento `dominio`.\n",
    "\n",
    "Las instancias de los predicados en `precondicionesP`, `precondicionesN`,\n",
    "`efectosP` y `efectosN`, pueden hacer referencia a las variables $z_{i}$,\n",
    "que deben escribirse entre llaves. En el caso de una sola precondición positiva\n",
    "o negativa, o un solo efecto positivo o negativo no es necesario\n",
    "proporcionarlos en una lista."
   ]
  },
  {
   "cell_type": "code",
   "execution_count": 14,
   "metadata": {
    "collapsed": false,
    "jupyter": {
     "outputs_hidden": false
    }
   },
   "outputs": [],
   "source": [
    "# El brazo robótico coloca un bloque sobre otro bloque\n",
    "apilar = probpl.EsquemaPlanificación(\n",
    "    nombre='apilar({x}, {y})',\n",
    "    precondicionesP=[agarrado('{x}'),\n",
    "                     despejado('{y}')],\n",
    "    efectosN=[agarrado('{x}'),\n",
    "              despejado('{y}')],\n",
    "    efectosP=[brazolibre(),\n",
    "              sobre('{x}', '{y}'),\n",
    "              despejado('{x}')],\n",
    "    coste=coste_bloque('{x}'),\n",
    "    dominio={(x, y) for x in bloques for y in bloques if x != y}\n",
    ")\n",
    "\n",
    "# El brazo robótico coge un bloque que está sobre otro bloque\n",
    "desapilar = probpl.EsquemaPlanificación(\n",
    "    nombre='desapilar({x}, {y})',\n",
    "    precondicionesP=[brazolibre(),\n",
    "                     sobre('{x}', '{y}'),\n",
    "                     despejado('{x}')],\n",
    "    efectosN=[brazolibre(),\n",
    "              sobre('{x}', '{y}'),\n",
    "              despejado('{x}')],\n",
    "    efectosP=[agarrado('{x}'),\n",
    "              despejado('{y}')],\n",
    "    coste=coste_bloque('{x}'),\n",
    "    dominio={(x, y) for x in bloques for y in bloques if x != y}\n",
    ")\n",
    "\n",
    "# El brazo robótico coge un bloque que está sobre la mesa\n",
    "agarrar = probpl.EsquemaPlanificación(\n",
    "    nombre='agarrar({x})',\n",
    "    precondicionesP=[brazolibre(),\n",
    "                     sobrelamesa('{x}'),\n",
    "                     despejado('{x}')],\n",
    "    efectosN=[brazolibre(),\n",
    "              sobrelamesa('{x}'),\n",
    "              despejado('{x}')],\n",
    "    efectosP=agarrado('{x}'),\n",
    "    coste=coste_bloque('{x}'),\n",
    "    variables={'x': bloques}\n",
    ")\n",
    "\n",
    "# El brazo robótico deja un bloque sobre la mesa\n",
    "bajar = probpl.EsquemaPlanificación(\n",
    "    nombre='bajar({x})',\n",
    "    precondicionesP=agarrado('{x}'),\n",
    "    efectosN=agarrado('{x}'),\n",
    "    efectosP=[brazolibre(),\n",
    "              sobrelamesa('{x}'),\n",
    "              despejado('{x}')],\n",
    "    coste=coste_bloque('{x}'),\n",
    "    variables={'x': bloques}\n",
    ")"
   ]
  },
  {
   "cell_type": "markdown",
   "metadata": {},
   "source": [
    "La representación como cadena de un esquema de acción muestra las acciones que se generarían a partir de él."
   ]
  },
  {
   "cell_type": "code",
   "execution_count": 15,
   "metadata": {
    "collapsed": false,
    "jupyter": {
     "outputs_hidden": false
    }
   },
   "outputs": [
    {
     "name": "stdout",
     "output_type": "stream",
     "text": [
      "Operador: agarrar({x})\n",
      "ACCIONES GENERADAS:\n",
      "\n",
      "Acción: agarrar(C)\n",
      "  Precondiciones:\n",
      "    brazolibre()\n",
      "    sobrelamesa(C)\n",
      "    despejado(C)\n",
      "  Efectos:\n",
      "    -brazolibre()\n",
      "    -sobrelamesa(C)\n",
      "    -despejado(C)\n",
      "    agarrado(C)\n",
      "  Coste: 3\n",
      "\n",
      "Acción: agarrar(A)\n",
      "  Precondiciones:\n",
      "    brazolibre()\n",
      "    sobrelamesa(A)\n",
      "    despejado(A)\n",
      "  Efectos:\n",
      "    -brazolibre()\n",
      "    -sobrelamesa(A)\n",
      "    -despejado(A)\n",
      "    agarrado(A)\n",
      "  Coste: 1\n",
      "\n",
      "Acción: agarrar(B)\n",
      "  Precondiciones:\n",
      "    brazolibre()\n",
      "    sobrelamesa(B)\n",
      "    despejado(B)\n",
      "  Efectos:\n",
      "    -brazolibre()\n",
      "    -sobrelamesa(B)\n",
      "    -despejado(B)\n",
      "    agarrado(B)\n",
      "  Coste: 2\n"
     ]
    }
   ],
   "source": [
    "print(agarrar)"
   ]
  },
  {
   "cell_type": "code",
   "execution_count": 16,
   "metadata": {
    "collapsed": false,
    "jupyter": {
     "outputs_hidden": false
    }
   },
   "outputs": [
    {
     "name": "stdout",
     "output_type": "stream",
     "text": [
      "Operador: apilar({x}, {y})\n",
      "ACCIONES GENERADAS:\n",
      "\n",
      "Acción: apilar(C, B)\n",
      "  Precondiciones:\n",
      "    agarrado(C)\n",
      "    despejado(B)\n",
      "  Efectos:\n",
      "    -agarrado(C)\n",
      "    -despejado(B)\n",
      "    brazolibre()\n",
      "    sobre(C, B)\n",
      "    despejado(C)\n",
      "  Coste: 3\n",
      "\n",
      "Acción: apilar(A, C)\n",
      "  Precondiciones:\n",
      "    agarrado(A)\n",
      "    despejado(C)\n",
      "  Efectos:\n",
      "    -agarrado(A)\n",
      "    -despejado(C)\n",
      "    brazolibre()\n",
      "    sobre(A, C)\n",
      "    despejado(A)\n",
      "  Coste: 1\n",
      "\n",
      "Acción: apilar(B, C)\n",
      "  Precondiciones:\n",
      "    agarrado(B)\n",
      "    despejado(C)\n",
      "  Efectos:\n",
      "    -agarrado(B)\n",
      "    -despejado(C)\n",
      "    brazolibre()\n",
      "    sobre(B, C)\n",
      "    despejado(B)\n",
      "  Coste: 2\n",
      "\n",
      "Acción: apilar(B, A)\n",
      "  Precondiciones:\n",
      "    agarrado(B)\n",
      "    despejado(A)\n",
      "  Efectos:\n",
      "    -agarrado(B)\n",
      "    -despejado(A)\n",
      "    brazolibre()\n",
      "    sobre(B, A)\n",
      "    despejado(B)\n",
      "  Coste: 2\n",
      "\n",
      "Acción: apilar(A, B)\n",
      "  Precondiciones:\n",
      "    agarrado(A)\n",
      "    despejado(B)\n",
      "  Efectos:\n",
      "    -agarrado(A)\n",
      "    -despejado(B)\n",
      "    brazolibre()\n",
      "    sobre(A, B)\n",
      "    despejado(A)\n",
      "  Coste: 1\n",
      "\n",
      "Acción: apilar(C, A)\n",
      "  Precondiciones:\n",
      "    agarrado(C)\n",
      "    despejado(A)\n",
      "  Efectos:\n",
      "    -agarrado(C)\n",
      "    -despejado(A)\n",
      "    brazolibre()\n",
      "    sobre(C, A)\n",
      "    despejado(C)\n",
      "  Coste: 3\n"
     ]
    }
   ],
   "source": [
    "print(apilar)"
   ]
  },
  {
   "cell_type": "markdown",
   "metadata": {},
   "source": [
    "Finalmente, para representar el problema de planificación se pasa la lista de\n",
    "esquemas de acción a la clase `ProblemaPlanificación` (en general, se pueden\n",
    "proporcionar tanto acciones como operadores, incluso mezclados)."
   ]
  },
  {
   "cell_type": "code",
   "execution_count": 17,
   "metadata": {
    "collapsed": false,
    "jupyter": {
     "outputs_hidden": false
    }
   },
   "outputs": [],
   "source": [
    "problema_mundo_bloques = probpl.ProblemaPlanificación(\n",
    "    operadores=[apilar,\n",
    "                desapilar,\n",
    "                agarrar,\n",
    "                bajar],\n",
    "    estado_inicial=estado_inicial_bloques,\n",
    "    objetivosP=[sobrelamesa('C'),\n",
    "                sobre('B', 'C'),\n",
    "                sobre('A', 'B')]\n",
    ")"
   ]
  },
  {
   "cell_type": "markdown",
   "metadata": {},
   "source": [
    "Una vez implementado el problema de planificación, para buscar un plan solución\n",
    "basta aplicar algún algoritmo de búsqueda en espacio de estados."
   ]
  },
  {
   "cell_type": "code",
   "execution_count": 18,
   "metadata": {
    "collapsed": false,
    "jupyter": {
     "outputs_hidden": false
    }
   },
   "outputs": [
    {
     "name": "stdout",
     "output_type": "stream",
     "text": [
      "Estado inicial:\n",
      "sobrelamesa(A)\n",
      "sobrelamesa(B)\n",
      "despejado(A)\n",
      "despejado(C)\n",
      "sobre(C, B)\n",
      "brazolibre()\n",
      "Objetivos positivos: {'sobrelamesa': {('C',)}, 'sobre': {('B', 'C'), ('A', 'B')}}\n",
      "Objetivos negativos: {}\n"
     ]
    },
    {
     "data": {
      "text/plain": [
       "['desapilar(C, B)',\n",
       " 'bajar(C)',\n",
       " 'agarrar(B)',\n",
       " 'apilar(B, C)',\n",
       " 'agarrar(A)',\n",
       " 'apilar(A, B)']"
      ]
     },
     "execution_count": 18,
     "metadata": {},
     "output_type": "execute_result"
    }
   ],
   "source": [
    "print(f'Estado inicial:\\n{estado_inicial_bloques}')\n",
    "print(f'Objetivos positivos: {problema_mundo_bloques.objetivosP}')\n",
    "print(f'Objetivos negativos: {problema_mundo_bloques.objetivosN}')\n",
    "búsqueda_profundidad.buscar(problema_mundo_bloques)"
   ]
  },
  {
   "cell_type": "markdown",
   "metadata": {},
   "source": [
    "# Problema de los buceadores"
   ]
  },
  {
   "cell_type": "markdown",
   "metadata": {},
   "source": [
    "En el marco de la _Conferencia Internacional sobre Planificación Automática y\n",
    "Planificación Temporal_ ([International Conference on Automated Planning and\n",
    "Scheduling, ICAPS](http://www.icaps-conference.org/)) se celebra, con\n",
    "periodicidad aproximadamente trienal, la _Competición Internacional de\n",
    "Planificación_ (https://www.icaps-conference.org/competitions/.\n",
    "\n",
    "Esta competición tiene diferentes objetivos: realizar una comparación empírica\n",
    "del estado del arte de los sistemas de planificación; destacar desafíos para la\n",
    "comunidad de Planificación Automática; proponer nuevas direcciones para la\n",
    "investigación y nuevos vínculos con otros campos de la Inteligencia Artificial;\n",
    "y proporcionar nuevos conjuntos de datos que puedan ser utilizados por la\n",
    "comunidad científica como puntos de referencia."
   ]
  },
  {
   "cell_type": "markdown",
   "metadata": {},
   "source": [
    "Uno de los problemas incluidos en la competición es el _problema de los\n",
    "buceadores_, propuesto por Nathan Robinson, Christian Muise y Charles Gretton."
   ]
  },
  {
   "cell_type": "markdown",
   "metadata": {},
   "source": [
    "El problema consiste en lo siguiente: hay una serie de buceadores, cada uno de\n",
    "los cuales puede acarrear 4 tanques de aire. A estos buceadores hay que\n",
    "contratarlos para que entren en un sistema cavernoso inundado y, o bien tomen\n",
    "fotografías, o bien preparen el camino para otros buceadores dejando caer\n",
    "tanques llenos de aire. El lugar es demasiado estrecho para que pueda entrar\n",
    "más de un buceador a la vez. El sistema cavernoso está formado por una serie de\n",
    "cuevas, algunas de ellas interconectadas entre sí. La entrada es única. Ciertas\n",
    "cuevas son objetivos que los buceadores deben fotografiar. Tanto nadar de un\n",
    "lugar a otro, como fotografiar una cueva, consume un tanque entero de aire. Los\n",
    "buceadores deben realizar un proceso de descompresión al salir a superficie,\n",
    "por lo que cada uno de ellos solo puede realizar un único viaje. Ciertos\n",
    "buceadores desconfían de algunos de sus compañeros y rechazarán trabajar si\n",
    "alguno de ellos ha recorrido las cuevas previamente. Contratar un buceador\n",
    "tiene un coste diferente para cada uno de ellos."
   ]
  },
  {
   "cell_type": "markdown",
   "metadata": {},
   "source": [
    "Consideremos los siguientes conjuntos de símbolos de objetos (**que no tienen\n",
    "por qué ser los únicos que se usen en el problema**):"
   ]
  },
  {
   "cell_type": "code",
   "execution_count": 19,
   "metadata": {
    "collapsed": false,
    "jupyter": {
     "outputs_hidden": false
    }
   },
   "outputs": [],
   "source": [
    "cuevas = {f'C{i}' for i in range(5)}\n",
    "buceadores = {f'B{i}' for i in range(2)}\n",
    "cantidades = {str(i) for i in range(9)}"
   ]
  },
  {
   "cell_type": "code",
   "execution_count": 20,
   "metadata": {
    "collapsed": false,
    "jupyter": {
     "outputs_hidden": false
    }
   },
   "outputs": [
    {
     "name": "stdout",
     "output_type": "stream",
     "text": [
      "Cuevas: {'C0', 'C2', 'C1', 'C4', 'C3'}\n",
      "Buceadores: {'B1', 'B0'}\n",
      "Cantidades: {'2', '5', '0', '7', '3', '8', '4', '1', '6'}\n"
     ]
    }
   ],
   "source": [
    "print(\"Cuevas: {}\".format(cuevas))\n",
    "print(\"Buceadores: {}\".format(buceadores))\n",
    "print(\"Cantidades: {}\".format(cantidades))"
   ]
  },
  {
   "cell_type": "markdown",
   "metadata": {},
   "source": [
    "y las siguientes relaciones de conexión entre las cuevas:"
   ]
  },
  {
   "cell_type": "code",
   "execution_count": 21,
   "metadata": {
    "collapsed": false,
    "jupyter": {
     "outputs_hidden": false
    }
   },
   "outputs": [],
   "source": [
    "conexiones = [('C0', 'C1'),\n",
    "              ('C1', 'C0'),\n",
    "              ('C1', 'C2'),\n",
    "              ('C1', 'C4'),\n",
    "              ('C2', 'C1'),\n",
    "              ('C2', 'C3'),\n",
    "              ('C3', 'C2'),\n",
    "              ('C4', 'C1')]"
   ]
  },
  {
   "cell_type": "markdown",
   "metadata": {},
   "source": [
    "**Ejercicio 1**: implementar los siguientes predicados:\n",
    "* `posición_buceador`: para cada buceador indica en qué cueva se encuentra, o\n",
    "  si se encuentra en la superficie.\n",
    "* `disponible`: para cada buceador indica si está disponible para trabajar.\n",
    "* `trabajando`: para cada buceador indica si está contratado y trabajando.\n",
    "* `descompresión`: para cada buceador indica si está en el proceso de\n",
    "  descompresión.\n",
    "* `tanques_llenos`: para cada buceador indica cuantos de sus 4 tanques están\n",
    "  llenos de aire; para cada cueva indica cuantos tanques llenos de aire hay en\n",
    "  dicha cueva, para que un buceador los pueda coger.\n",
    "* `con_foto_de`: para cada cueva indica si se le ha realizado o no una\n",
    "  fotografía."
   ]
  },
  {
   "cell_type": "code",
   "execution_count": null,
   "metadata": {
    "collapsed": false,
    "jupyter": {
     "outputs_hidden": false
    }
   },
   "outputs": [],
   "source": []
  },
  {
   "cell_type": "markdown",
   "metadata": {},
   "source": [
    "**Ejercicio 2**: implementar las siguientes acciones:\n",
    "* `contratar(B0)`: contrata al buceador `B0`, que inmediatamente se dispone a\n",
    "  trabajar; siempre y cuando esté disponible y no haya otro buceador contratado\n",
    "  ahora mismo. El buceador `B1` rechazará ser contratado después de él.\n",
    "  Contratar al buceador `B0` tiene coste 10.\n",
    "* `contratar(B1)`: contrata al buceador `B1`, que inmediatamente se dispone a\n",
    "  trabajar; siempre y cuando esté disponible y no haya otro buceador contratado\n",
    "  ahora mismo. Contratar al buceador `B1` tiene coste 67."
   ]
  },
  {
   "cell_type": "code",
   "execution_count": null,
   "metadata": {
    "collapsed": false,
    "jupyter": {
     "outputs_hidden": false
    }
   },
   "outputs": [],
   "source": []
  },
  {
   "cell_type": "markdown",
   "metadata": {},
   "source": [
    "**Ejercicio 3**: implementar los siguientes operadores:\n",
    "* `entrar_al_agua`: un buceador contratado entra desde la superficie al sistema\n",
    "  cavernoso, lleva sus cuatro tanques de aire llenos.\n",
    "* `bucear`: un buceador nada entre dos cuevas conectadas, gastando un tanque\n",
    "  completo de aire.\n",
    "* `fotografiar`: un buceador fotografía una cueva, gastando un tanque completo\n",
    "  de aire.\n",
    "* `soltar_tanque`: un buceador suelta un tanque lleno en una de las cuevas.\n",
    "* `cargar_tanque`: un buceador carga uno de sus tanques vacíos con uno lleno\n",
    "  que se ha soltado previamente en una de las cuevas.\n",
    "* `salir_del_agua`: un buceador sale a superficie y pasa al proceso de\n",
    "  descompresión."
   ]
  },
  {
   "cell_type": "code",
   "execution_count": null,
   "metadata": {
    "collapsed": false,
    "jupyter": {
     "outputs_hidden": false
    }
   },
   "outputs": [],
   "source": []
  },
  {
   "cell_type": "markdown",
   "metadata": {},
   "source": [
    "**Ejercicio 4**: implementar la instancia del problema de tal manera que\n",
    "inicialmente los dos buceadores estén en la superficie, disponibles para ser\n",
    "contratados; no haya tanques llenos en las cuevas; y no se haya hecho todavía\n",
    "ninguna foto. El objetivo será fotografiar la cueva `C4` y que los dos\n",
    "buceadores estén en la superficie."
   ]
  },
  {
   "cell_type": "code",
   "execution_count": null,
   "metadata": {
    "collapsed": false,
    "jupyter": {
     "outputs_hidden": false
    }
   },
   "outputs": [],
   "source": []
  },
  {
   "cell_type": "markdown",
   "metadata": {},
   "source": [
    "**Ejercicio 5**: Aplicar algún algoritmo de búsqueda en espacio de estados para\n",
    "encontrar un plan solución de la instancia del problema (**Nota**: una búsqueda\n",
    "no informada puede requerir un tiempo considerable). ¿Cuántas acciones tiene el\n",
    "plan resultante?. ¿Se puede alcanzar el mismo objetivo pero con una foto de la\n",
    "cueva `C3`?"
   ]
  },
  {
   "cell_type": "code",
   "execution_count": null,
   "metadata": {
    "collapsed": false,
    "jupyter": {
     "outputs_hidden": false
    }
   },
   "outputs": [],
   "source": []
  }
 ],
 "metadata": {
  "kernelspec": {
   "display_name": "Python 3",
   "language": "python",
   "name": "python3"
  },
  "language_info": {
   "codemirror_mode": {
    "name": "ipython",
    "version": 3
   },
   "file_extension": ".py",
   "mimetype": "text/x-python",
   "name": "python",
   "nbconvert_exporter": "python",
   "pygments_lexer": "ipython3",
   "version": "3.8.5"
  },
  "name": "Solución_04.ipynb"
 },
 "nbformat": 4,
 "nbformat_minor": 4
}
